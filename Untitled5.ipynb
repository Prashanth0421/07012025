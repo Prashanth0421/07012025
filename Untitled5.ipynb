{
  "nbformat": 4,
  "nbformat_minor": 0,
  "metadata": {
    "colab": {
      "provenance": [],
      "authorship_tag": "ABX9TyOW5q5RUVQoB1v4A9/5lsZz",
      "include_colab_link": true
    },
    "kernelspec": {
      "name": "python3",
      "display_name": "Python 3"
    },
    "language_info": {
      "name": "python"
    }
  },
  "cells": [
    {
      "cell_type": "markdown",
      "metadata": {
        "id": "view-in-github",
        "colab_type": "text"
      },
      "source": [
        "<a href=\"https://colab.research.google.com/github/Prashanth0421/07012025/blob/main/Untitled5.ipynb\" target=\"_parent\"><img src=\"https://colab.research.google.com/assets/colab-badge.svg\" alt=\"Open In Colab\"/></a>"
      ]
    },
    {
      "cell_type": "code",
      "source": [
        "from sklearn.datasets import make_multilabel_classification\n",
        "import pandas as pd\n",
        "\n",
        "X, y = make_multilabel_classification(n_samples=5000, n_features=10, n_classes=2, random_state=42)\n",
        "\n",
        "\n",
        "X_df = pd.DataFrame(X, columns=[f'Feature_{i+1}' for i in range(X.shape[1])])\n",
        "y_df = pd.DataFrame(y, columns=['Class_1', 'Class_2'])\n",
        "\n",
        "\n",
        "print(\"Features (X):\")\n",
        "print(X_df.head())\n",
        "\n",
        "print(\"\\nTargets (Y):\")\n",
        "print(y_df.head())\n"
      ],
      "metadata": {
        "colab": {
          "base_uri": "https://localhost:8080/"
        },
        "id": "L9Ucig0H5YHx",
        "outputId": "c01d47dc-66b7-4d30-fc10-a75462314e4a"
      },
      "execution_count": 2,
      "outputs": [
        {
          "output_type": "stream",
          "name": "stdout",
          "text": [
            "Features (X):\n",
            "   Feature_1  Feature_2  Feature_3  Feature_4  Feature_5  Feature_6  \\\n",
            "0       11.0        1.0       11.0        5.0       11.0        1.0   \n",
            "1        5.0        1.0        7.0        5.0        4.0        3.0   \n",
            "2        4.0        2.0       13.0        8.0       13.0        3.0   \n",
            "3        3.0        0.0       13.0       12.0       12.0        3.0   \n",
            "4        9.0        0.0        6.0       11.0        3.0        4.0   \n",
            "\n",
            "   Feature_7  Feature_8  Feature_9  Feature_10  \n",
            "0        3.0        6.0        6.0         1.0  \n",
            "1        9.0        1.0        6.0         5.0  \n",
            "2        0.0        6.0        1.0         4.0  \n",
            "3        2.0        7.0        3.0         5.0  \n",
            "4        2.0        0.0        6.0         2.0  \n",
            "\n",
            "Targets (Y):\n",
            "   Class_1  Class_2\n",
            "0        0        1\n",
            "1        0        0\n",
            "2        0        1\n",
            "3        0        1\n",
            "4        1        1\n"
          ]
        }
      ]
    },
    {
      "cell_type": "code",
      "source": [],
      "metadata": {
        "id": "G3WDv0F15ZEn"
      },
      "execution_count": null,
      "outputs": []
    },
    {
      "cell_type": "code",
      "source": [
        "from sklearn.datasets import load_iris\n",
        "from sklearn.model_selection import train_test_split\n",
        "from sklearn.tree import DecisionTreeClassifier\n",
        "from sklearn.metrics import accuracy_score\n",
        "\n",
        "# Load sample dataset\n",
        "iris = load_iris()\n",
        "X = iris.data\n",
        "y = iris.target\n",
        "\n",
        "# Train/test split\n",
        "X_train, X_test, y_train, y_test = train_test_split(X, y, test_size=0.2, random_state=42)\n",
        "\n",
        "# Build decision tree model\n",
        "model = DecisionTreeClassifier()\n",
        "model.fit(X_train, y_train)\n",
        "\n",
        "# Make predictions\n",
        "y_pred = model.predict(X_test)\n",
        "\n",
        "# Calculate accuracy\n",
        "accuracy = accuracy_score(y_test, y_pred)\n",
        "print(f\"Decision Tree Accuracy: {accuracy * 100:.2f}%\")\n"
      ],
      "metadata": {
        "colab": {
          "base_uri": "https://localhost:8080/"
        },
        "id": "u5_PpDSJ8jLV",
        "outputId": "ef93f962-d210-4e7f-d371-ad31d9936822"
      },
      "execution_count": 3,
      "outputs": [
        {
          "output_type": "stream",
          "name": "stdout",
          "text": [
            "Decision Tree Accuracy: 100.00%\n"
          ]
        }
      ]
    },
    {
      "cell_type": "code",
      "source": [],
      "metadata": {
        "id": "ttrUZlQa8j91"
      },
      "execution_count": null,
      "outputs": []
    }
  ]
}